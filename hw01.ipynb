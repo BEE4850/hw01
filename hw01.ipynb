{
  "cells": [
    {
      "cell_type": "markdown",
      "id": "11ed0218-2299-4fd7-8ef7-6622ca6cc15c",
      "metadata": {},
      "source": [
        "# Homework 1: Simulation-Based Data Analysis\n",
        "\n",
        "BEE 4850/5850, Fall 2024\n",
        "\n",
        "**Name**:\n",
        "\n",
        "**ID**:\n",
        "\n",
        "> **Due Date**\n",
        ">\n",
        "> Friday, 2/2/24, 9:00pm\n",
        "\n",
        "## Overview"
      ]
    },
    {
      "cell_type": "markdown",
      "id": "da50bf13-d6f1-495b-80f8-2e2664196f3a",
      "metadata": {},
      "source": [
        "### Instructions\n",
        "\n",
        "The goal of this homework assignment is to introduce you to\n",
        "simulation-based data analysis.\n",
        "\n",
        "-   Problem 1 asks you to explore whether a difference between data\n",
        "    collected from two groups might be statistically meaningful or the\n",
        "    result of noise. This problem repeats the analysis from [Statistics\n",
        "    Without The Agonizing\n",
        "    Pain](https://www.youtube.com/watch?v=5Dnw46eC-0o) by John Rauser\n",
        "    (which is a neat watch!).\n",
        "-   Problem 2 asks you to evaluate an interview method for finding the\n",
        "    level of cheating on a test to determine whether cheating was\n",
        "    relatively high or low. This problem was adapted from [Bayesian\n",
        "    Methods for\n",
        "    Hackers](https://dataorigami.net/Probabilistic-Programming-and-Bayesian-Methods-for-Hackers/).\n",
        "-   Problem 3 asks you to assess the quality of fit of a normal\n",
        "    distribution to realizations from a Galton Board simulation.\n",
        "-   Problem 4 (**graded only for graduate students**) asks you to\n",
        "    simulate outcomes from the *Price Is Right* Showcase game to\n",
        "    identify a bidding strategy."
      ]
    },
    {
      "cell_type": "markdown",
      "id": "e601913d-1939-439a-a4a0-5ddce9521393",
      "metadata": {},
      "source": [
        "### Learning Outcomes"
      ]
    },
    {
      "cell_type": "markdown",
      "id": "4b1ae534-d11a-43d1-a35d-3a8d2729fdc5",
      "metadata": {},
      "source": [
        "### Load Environment\n",
        "\n",
        "The following code loads the environment and makes sure all needed\n",
        "packages are installed. This should be at the start of most Julia\n",
        "scripts."
      ]
    },
    {
      "cell_type": "code",
      "execution_count": 1,
      "id": "557b7fcb",
      "metadata": {},
      "outputs": [],
      "source": [
        "import Pkg\n",
        "Pkg.activate(@__DIR__)\n",
        "Pkg.instantiate()"
      ]
    },
    {
      "cell_type": "markdown",
      "id": "6002757b-5556-464a-a289-c6bc6ad4c9f7",
      "metadata": {},
      "source": [
        "The following packages are included in the environment (to help you find\n",
        "other similar packages in other languages). The code below loads these\n",
        "packages for use in the subsequent notebook (the desired functionality\n",
        "for each package is commented next to the package)."
      ]
    },
    {
      "cell_type": "code",
      "execution_count": 2,
      "id": "91ca2e35",
      "metadata": {},
      "outputs": [],
      "source": [
        "using Random # random number generation and seed-setting\n",
        "using DataFrames # tabular data structure\n",
        "using CSVFiles # reads/writes .csv files\n",
        "using Distributions # interface to work with probability distributions\n",
        "using Plots # plotting library\n",
        "using StatsBase # statistical quantities like mean, median, etc\n",
        "using StatsPlots # some additional statistical plotting tools"
      ]
    },
    {
      "cell_type": "markdown",
      "id": "31ca8221-3959-4fb1-a633-8faf843c7952",
      "metadata": {},
      "source": [
        "## Problems (Total: 20 Points)"
      ]
    },
    {
      "cell_type": "markdown",
      "id": "29f0aa02-b10d-44c9-a814-38d91c8a561f",
      "metadata": {},
      "source": [
        "### Problem 1 (10 points)\n",
        "\n",
        "The underlying question we would like to address is: what is the\n",
        "influence of drinking beer on the likelihood of being bitten by\n",
        "mosquitoes? There is a mechanistic reason why this might occur:\n",
        "mosquitoes are attracted by changes in body temperature and released\n",
        "CO<sub>2</sub>, and it might be that drinking beer induces these\n",
        "changes. We’ll analyze this question using (synthetic) data which\n",
        "separates an experimental population into two groups, one which drank\n",
        "beer and the other which drank only water.\n",
        "\n",
        "First, we’ll load data for the number of bites reported by the\n",
        "participants who drank beer. This is in a comma-delimited file,\n",
        "`data/bites.csv` (which is grossly overkill for this assignment). Each\n",
        "row contains two columns: the group (`beer` and `water`) the person\n",
        "belonged to and the number of times that person was bitten.\n",
        "\n",
        "In Julia, we can do this using\n",
        "[`CSVFiles.jl`](https://github.com/queryverse/CSVFiles.jl), which will\n",
        "read in the `.csv` file into a\n",
        "[`DataFrame`](https://dataframes.juliadata.org/stable/), which is a\n",
        "typical data structure for tabular data (and equivalent to a Pandas\n",
        "`DataFrame` in Python or a `dataframe` in R)."
      ]
    },
    {
      "cell_type": "code",
      "execution_count": 3,
      "id": "8fdd5e4f",
      "metadata": {},
      "outputs": [],
      "source": [
        "data = DataFrame(load(\"data/bites.csv\")) # load data into DataFrame\n",
        "\n",
        "# print data variable (semi-colon suppresses echoed output in Julia, which in this case would duplicate the output)\n",
        "@show data; "
      ]
    },
    {
      "cell_type": "markdown",
      "id": "4a7deb8c-e810-485b-9397-d2fb52e94821",
      "metadata": {},
      "source": [
        "How can we tell if there’s a meaningful difference between the two\n",
        "groups? Naively, we might just look at the differences in group means."
      ]
    },
    {
      "cell_type": "markdown",
      "id": "fdf91c4a-4ee0-402f-b0e7-f9054418b6f5",
      "metadata": {},
      "source": [
        "> **Broadcasting**\n",
        ">\n",
        "> The subsetting operations in the below code use `.==`, which\n",
        "> “broadcasts” the element-wise comparison operator == across every\n",
        "> element. The decimal in front of `==` indicates that this should be\n",
        "> used element-wise (every pair of elements compared for equality,\n",
        "> returning a vector of `true` or `false` values); otherwise Julia would\n",
        "> try to just check for vector equality (returning a single `true` or\n",
        "> `false` value).\n",
        ">\n",
        "> Broadcasting is a very specific feature of Julia, so this syntax would\n",
        "> look different in a different programming language."
      ]
    },
    {
      "cell_type": "code",
      "execution_count": 4,
      "id": "241a8cf2",
      "metadata": {},
      "outputs": [
        {
          "name": "stdout",
          "output_type": "stream",
          "text": [
            "observed_difference = 4.37777777777778"
          ]
        }
      ],
      "source": [
        "# split data into vectors of bites for each group\n",
        "beer = data[data.group .== \"beer\", :bites]\n",
        "water = data[data.group .== \"water\", :bites]\n",
        "\n",
        "observed_difference = mean(beer) - mean(water)\n",
        "@show observed_difference;"
      ]
    },
    {
      "cell_type": "markdown",
      "id": "5613a58a-94d0-4f2c-b3e4-7e2f4bb688b6",
      "metadata": {},
      "source": [
        "This tells us that, on average, the participants in the experiment who\n",
        "drank beer were bitten approximately 4.4 more times than the\n",
        "participants who drank water! Does that seem like a meaningful\n",
        "difference, or could it be the result of random chance?\n",
        "\n",
        "We will use a *simulation* approach to address this question, as\n",
        "follows.\n",
        "\n",
        "-   Suppose someone is skeptical of the idea that drinking beer could\n",
        "    result in a higher attraction to mosquitoes, and therefore more\n",
        "    bites. To this skeptic, the two datasets are really just different\n",
        "    samples from the same underlying population of people getting bitten\n",
        "    by mosquitoes, rather than two different populations with different\n",
        "    propensities for being bitten. This is the skeptic’s *hypothesis*,\n",
        "    versus our hypothesis that drinking beer changes body temperature\n",
        "    and CO<sub>2</sub> release sufficiently to attract mosquitoes.\n",
        "-   If the skeptic’s hypothesis is true, then we can “shuffle” all of\n",
        "    the measurements between the two datasets and re-compute the\n",
        "    differences in the means. After repeating this procedure a large\n",
        "    number of times, we would obtain a distribution of the differences\n",
        "    in means under the assumption that the skeptic’s hypothesis is true.\n",
        "-   Comparing our experimentally-observed difference to this\n",
        "    distribution, we can then evaluate the consistency of the skeptic’s\n",
        "    hypothesis with the experimental results."
      ]
    },
    {
      "cell_type": "markdown",
      "id": "65efd38a-1151-4219-a8e3-ec7deb6cc253",
      "metadata": {},
      "source": [
        "> **Why Do We Call This A Simulation-Based Approach?**\n",
        ">\n",
        "> This is a simulation-based approach because the “shuffling” is a\n",
        "> non-parametric way of generating new samples from the underlying\n",
        "> distribution (more on this later in the semester).\n",
        ">\n",
        "> The alternative to this approach is to use a statistical test, such as\n",
        "> a [t-test](https://en.wikipedia.org/wiki/Student%27s_t-test), which\n",
        "> [may have other\n",
        "> assumptions](https://en.wikipedia.org/wiki/Student%27s_t-test#Assumptions)\n",
        "> which may not be appropriate for this setting, particularly given the\n",
        "> seemingly small sample sizes."
      ]
    },
    {
      "cell_type": "markdown",
      "id": "b87f25c5-aafd-4f61-802b-f102e4f41e72",
      "metadata": {},
      "source": [
        "**In this problem**:\n",
        "\n",
        "-   Conduct the above procedure to generate 50,000 simulated datasets\n",
        "    under the skeptic’s hypothesis.\n",
        "-   Plot a histogram of the results and add a dashed vertical line to\n",
        "    show the experimental difference (if you are using Julia, feel free\n",
        "    to look at the [Making Plots with Julia\n",
        "    tutorial](https://viveks.me/simulation-data-analysis/tutorials/julia-plots.html)\n",
        "    on the class website).\n",
        "-   Draw conclusions about the plausibility of the skeptic’s hypothesis\n",
        "    that there is no difference between groups. Feel free to use any\n",
        "    quantitative or qualitative assessments of your simulations and the\n",
        "    observed difference."
      ]
    },
    {
      "cell_type": "markdown",
      "id": "22006997-ab79-4a70-aecb-e410a28a99f9",
      "metadata": {},
      "source": [
        "### Problem 2 (10 points)\n",
        "\n",
        "You are trying to detect if how prevalent cheating was on an exam. You\n",
        "are skeptical of the efficacy of just asking the students if they\n",
        "cheated. You are also concerned about privacy — your goal is not to\n",
        "punish individual students, but to see if there are systemic problems\n",
        "that need to be addressed. Someone proposes the following interview\n",
        "procedure, which the class agrees to participate in:\n",
        "\n",
        "> Each student flips a fair coin, with the results hidden from the\n",
        "> interviewer. The student answers honestly if the coin comes up heads.\n",
        "> Otherwise, if the coin comes up tails, the student flips the coin\n",
        "> again, and answers “I did cheat” if heads, and “I did not cheat”, if\n",
        "> tails.\n",
        "\n",
        "We have a hypothesis that cheating was not prevalent, and the proportion\n",
        "of cheaters was no more than 5% of the class; in other words, we expect\n",
        "5 “true” cheaters out of a class of 100 students. Our TA is more jaded\n",
        "and thinks that cheating was more rampant, and that 30% of the class\n",
        "cheated. The proposed interview procedure is noisy: the interviewer does\n",
        "not know if an admission means that the student cheated, or the result\n",
        "of a heads. However, it gives us a data-generating process that we can\n",
        "model and analyze for consistency with our hypothesis and that of the\n",
        "TA.\n",
        "\n",
        "**In this problem**:\n",
        "\n",
        "-   Derive and code a simulation model for the above interview procedure\n",
        "    given the “true” probability of cheating $p$.\n",
        "-   Simulate your model (for a class of 100 students) 50,000 times under\n",
        "    the your hypothesis and the TA’s hypothesis, and plot the two\n",
        "    resulting datasets.\n",
        "-   If you received 31 “Yes, I cheated” responses while interviewing\n",
        "    your class, what could you conclude? Feel free to use any\n",
        "    qualitative or quantiative assessments to justify your conclusions.\n",
        "-   How useful do you think the interview procedure is to identify\n",
        "    systemic teaching? What changes to the design might you make?"
      ]
    },
    {
      "cell_type": "markdown",
      "id": "7acff47c-5609-430d-9e78-13f1b3927ea3",
      "metadata": {},
      "source": [
        "### Problem 3 (10 points)\n",
        "\n",
        "Suppose that we ask a class of students to walk individually from one\n",
        "end of a field to the other and count the number of steps that they take\n",
        "in order to cover the distance. More than likely, each student will get\n",
        "a somewhat different answer. After each student has paced off the field,\n",
        "we then make a histogram of the number of steps taken by the individual\n",
        "students. For a sufficiently large number of students, this histogram\n",
        "would resemble a normal distribution, due to the [Central Limit\n",
        "Theorem](https://en.wikipedia.org/wiki/Central_limit_theorem).\n",
        "\n",
        "A **Galton board** (named after [Sir Francis\n",
        "Galton](https://en.wikipedia.org/wiki/Francis_Galton), a pioneering\n",
        "statistician[1], shown below, is a physical device that demonstrates the\n",
        "Central Limit Theorem. A Galton board has rows of pins arranged in a\n",
        "triangular shape, with each row of pins offset horizontally relative to\n",
        "the rows above and below it. As illustrated in\n",
        "<a href=\"#fig-galton\" class=\"quarto-xref\">Figure 1</a>, the top row has\n",
        "one pin, the second row has two pins, and so forth. If you’ve watched\n",
        "*The Price is Right*, you’ve seen this as\n",
        "[“Plinko”](https://priceisright.fandom.com/wiki/Plinko).\n",
        "\n",
        "[1] And, notably, a leading eugenicist, which is unfortunately a\n",
        "recurring theme with leading early statisticians…)"
      ]
    },
    {
      "cell_type": "markdown",
      "id": "0f05412f-d7f8-4b50-9347-116eb97b924c",
      "metadata": {},
      "source": [
        "<figure id=\"fig-galton\">\n",
        "<img src=\"figures/galton_board.png\" />\n",
        "<figcaption>Figure 1: Galton Board simulation. The top shows a schematic\n",
        "of how the Galton board works and the bottom shows a histogram of the\n",
        "landing positions after 200 simulations.</figcaption>\n",
        "</figure>"
      ]
    },
    {
      "cell_type": "markdown",
      "id": "988580a7-86a6-4378-b5c7-69c0c76ab63a",
      "metadata": {},
      "source": [
        "If a ball is dropped into the Galton board, it falls either to the right\n",
        "or the left when it bounces off the top pin. The ball then falls all the\n",
        "way to the bottom of the board, moving slightly to the right or left as\n",
        "it passes through each row of pins. Bins at the bottom of the board\n",
        "capture the ball and record its final position. If this experiment is\n",
        "repeated with many balls, the number of balls in each bin resembles a\n",
        "normal distribution, which is expected due to the Central Limit Theorem.\n",
        "\n",
        "Your goal in this exercise is to explore how well a normal distribution\n",
        "fits the outcomes of repeated Galton Board trials as the number\n",
        "increases using quantile-quantile plots. Assessing the appropriateness\n",
        "of a probability model for a data set is a key part of exploratory\n",
        "analysis; we will return to this theme repeatedly. Or, to put it another\n",
        "way, it’s time for you to play Plinko!\n",
        "\n",
        "**In this problem**:\n",
        "\n",
        "-   Write a function `galton_sim` which simulates `n` Galton board\n",
        "    trials (assume the board has 8 board rows, as in the image above)\n",
        "    and returns a vector with the number of balls which fall into each\n",
        "    bin. You can assume (for now) that the board is fair, *e.g.* that\n",
        "    the probability of a left or right bounce is 0.5; you may want to\n",
        "    make this probability a function parameter so you can change it\n",
        "    later.\n",
        "-   Run your simulation for a sample of 50 balls. Create a histogram of\n",
        "    the results, with each bar corresponding to one bin. Make sure you\n",
        "    use a random seed for reproducibility, and label your axes!\n",
        "-   Each Galton board trial can be represented as a realization from a\n",
        "    [binomial\n",
        "    distribution](https://en.wikipedia.org/wiki/Binomial_distribution).\n",
        "    But as we noted above, by the Central Limit Theorem, the\n",
        "    distribution of a large enough number of trials should be\n",
        "    approximately normal. Use a [quantile-quantile (Q-Q)\n",
        "    plot](https://en.wikipedia.org/wiki/Q%E2%80%93Q_plot) to compare a\n",
        "    fitted normal distribution with your simulation results. How well\n",
        "    does a normal distribution fit the data?\n",
        "-   Repeat your simulation experiment with 250 trials and compare to a\n",
        "    normal distribution. Does it describe the empirical distribution\n",
        "    better?\n",
        "-   If the probability of a left bounce is 70%, what does this do to the\n",
        "    fit of a normal distribution? What other distribution might you use\n",
        "    if not a normal and why?"
      ]
    },
    {
      "cell_type": "markdown",
      "id": "acda3ee9-8082-456e-b4e1-e93f41309729",
      "metadata": {},
      "source": [
        "### Problem 4 (10 points)\n",
        "\n",
        "<span style=\"color:red;\">GRADED FOR 5850 STUDENTS ONLY</span>\n",
        "\n",
        "Your mastery of the Central Limit Theorem has led you to win your game\n",
        "of Plinko, and it’s time for the\n",
        "[Showcases](https://priceisright.fandom.com/wiki/Showcases). This is the\n",
        "final round of an episode of The Price is Right, matching the two big\n",
        "winners from the episode. Each contestant is shown a “showcase” of\n",
        "prizes, which are usually some combination of a trip, a motor vehicle,\n",
        "some furniture, and maybe some other stuff. They then each have to make\n",
        "a bid on the retail price of the showcase. The rules are:\n",
        "\n",
        "-   an overbid is an automatic loss;\n",
        "-   the contest who gets closest to the retail price wins their\n",
        "    showcase;\n",
        "-   if a contestant gets within $\\$250$ of the retail price and is\n",
        "    closer than their opponent, they win both showcases.\n",
        "\n",
        "Thanks to [exhaustive statistics kept by game show\n",
        "fans](http://tpirstats.com/Season51/Stats.htm), in Season 51 of *The\n",
        "Price is Right* showcase values had the following properties:\n",
        "\n",
        "-   median: \\$33,0481;\n",
        "-   lowest-value: \\$20,432\n",
        "-   highest-value: \\$72,409\n",
        "\n",
        "**In this problem**:\n",
        "\n",
        "-   Write down a model which encodes the Showcase rules as a function of\n",
        "    the showcase value and your bid. You can assume that your wagering\n",
        "    is independent of your opponent.\n",
        "-   Select and fit a distribution to the above statistics (you have some\n",
        "    freedom to pick a distribution, but make sure you justify it).\n",
        "-   Using 1,000 samples from your price distribution in your model, plot\n",
        "    the expected winnings for bids from \\$20,000 through \\$72,000.\n",
        "-   Find the bid which maximizes your expected winnings. If you were\n",
        "    playing *The Price Is Right*, is this the strategy you would adopt,\n",
        "    or are there other considerations you would take into account which\n",
        "    were not included in this model?"
      ]
    }
  ],
  "metadata": {
    "kernelspec": {
      "display_name": "Julia 1.9.4",
      "language": "julia",
      "name": "julia-1.9"
    }
  },
  "nbformat": 4,
  "nbformat_minor": 5
}
